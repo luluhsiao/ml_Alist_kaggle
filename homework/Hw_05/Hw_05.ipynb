{
 "cells": [
  {
   "cell_type": "code",
   "execution_count": 134,
   "metadata": {},
   "outputs": [],
   "source": [
    "import pandas as pd\n",
    "import numpy as np\n",
    "import matplotlib.pyplot as plt\n",
    "\n",
    "from sklearn.model_selection import train_test_split\n",
    "from sklearn.tree import DecisionTreeRegressor\n",
    "from sklearn.metrics import mean_squared_error as MSE\n",
    "from sklearn.metrics import mean_absolute_error as MAE\n",
    "from sklearn.metrics import mean_absolute_percentage_error as MAPE"
   ]
  },
  {
   "cell_type": "markdown",
   "metadata": {},
   "source": [
    "## 解題步驟：\n",
    "\n",
    "1. 讀取 x_train.npy, y_train.npy, x_test.npy, y_test.npy\n",
    "2. 將 training dataset 再切分為 training set, validation set (圖一)\n",
    "3. 先以上課的知識調整出一個不會 over-fitting 太多的決策樹模型\n",
    "4. 以 validation set 作為調整參數的基準，陸續調整其他參數 (請同學測試看看 validation 要佔多少比例，後續的調整會比較客觀)\n",
    "5. 將最終調整結果與一開始的決策樹做比較，誤差是否有降低\n",
    "6. 同學若也懂其他模型的知識也可以試試看一樣的做法比較看看\n",
    "\n",
    "#### 圖一 (Train, Validation and Test)\n",
    "<img src=\"./train_val_test.png\" style=\"zoom:30%;\" />\n",
    "\n",
    "#### 圖二 (是我前後調整的結果)\n",
    "<img src=\"./report.png\" style=\"zoom:30%;\" />"
   ]
  },
  {
   "cell_type": "code",
   "execution_count": 135,
   "metadata": {},
   "outputs": [
    {
     "name": "stdout",
     "output_type": "stream",
     "text": [
      "(766, 89) (766,) (329, 89) (329,) (365, 89) (365,)\n"
     ]
    }
   ],
   "source": [
    "# Read data\n",
    "\"\"\" Your code here \"\"\"\n",
    "x_train = np.load('x_train.npy')\n",
    "y_train = np.load('y_train.npy')\n",
    "x_test = np.load('x_test.npy')\n",
    "y_test = np.load('y_test.npy')\n",
    "\n",
    "# split data\n",
    "x_train, x_validation, y_train, y_validation = train_test_split(x_train, y_train, train_size=0.7)\n",
    "\n",
    "print(x_train.shape, y_train.shape,x_validation.shape, y_validation.shape, x_test.shape, y_test.shape)"
   ]
  },
  {
   "cell_type": "markdown",
   "metadata": {},
   "source": [
    "## 請同學先依照上課的知識，調整一個沒有 overfitting 的決策樹，請以 mape 作為參考誤差指標，較容易看出關係"
   ]
  },
  {
   "cell_type": "code",
   "execution_count": 136,
   "metadata": {},
   "outputs": [
    {
     "data": {
      "text/plain": [
       "DecisionTreeRegressor(ccp_alpha=200, criterion='mae')"
      ]
     },
     "execution_count": 136,
     "metadata": {},
     "output_type": "execute_result"
    }
   ],
   "source": [
    "\"\"\" Your code here \"\"\"\n",
    "DT = DecisionTreeRegressor(criterion='mae', \n",
    "                           splitter='best', \n",
    "                           max_depth=None, \n",
    "                           min_samples_split=2, \n",
    "                           min_samples_leaf=1, \n",
    "                           min_weight_fraction_leaf=0.0, \n",
    "                           max_features=None, \n",
    "                           random_state=None, \n",
    "                           max_leaf_nodes=None, \n",
    "                           min_impurity_decrease=0.0, \n",
    "                           min_impurity_split=None, \n",
    "                           ccp_alpha=200)\n",
    "DT.fit(x_train, y_train)"
   ]
  },
  {
   "cell_type": "code",
   "execution_count": 137,
   "metadata": {},
   "outputs": [
    {
     "name": "stdout",
     "output_type": "stream",
     "text": [
      "Training report\n",
      "MSE: 671711678.9582245\n",
      "MAE: 17128.879895561357\n",
      "MAPE: 0.10645954275494504\n",
      "------------------------------------\n",
      "Validation report\n",
      "MSE: 1884432638.6291792\n",
      "MAE: 24981.0547112462\n",
      "MAPE: 0.14940136051918398\n",
      "------------------------------------\n",
      "Testing report\n",
      "MSE: 1617854749.3835616\n",
      "MAE: 25432.939726027398\n",
      "MAPE: 0.13914276529190037\n"
     ]
    }
   ],
   "source": [
    "print('Training report')\n",
    "pred = DT.predict(x_train)\n",
    "print('MSE:',MSE(y_train, pred))\n",
    "print('MAE:',MAE(y_train, pred))\n",
    "print('MAPE:',MAPE(y_train, pred))\n",
    "print(\"------------------------------------\")\n",
    "\n",
    "print('Validation report')\n",
    "pred = DT.predict(x_validation)\n",
    "print('MSE:',MSE(y_validation, pred))\n",
    "print('MAE:',MAE(y_validation, pred))\n",
    "print('MAPE:',MAPE(y_validation, pred))\n",
    "print(\"------------------------------------\")\n",
    "\n",
    "print('Testing report')\n",
    "pred = DT.predict(x_test)\n",
    "print('MSE:',MSE(y_test, pred))\n",
    "print('MAE:',MAE(y_test, pred))\n",
    "print('MAPE:',MAPE(y_test, pred))"
   ]
  },
  {
   "cell_type": "markdown",
   "metadata": {},
   "source": [
    "## 調整 決策樹參數\n",
    "### 請同學從 criterion 的設定中，判斷這組資料集裡的 outlier 多嗎？"
   ]
  },
  {
   "cell_type": "code",
   "execution_count": 138,
   "metadata": {},
   "outputs": [
    {
     "name": "stdout",
     "output_type": "stream",
     "text": [
      "#### criterion: mse\n",
      "Training report\n",
      "MSE: 5646.249129677982\n",
      "MAE: 25.011749347258487\n",
      "MAPE: 0.00017911449804430634\n",
      "------------------------------------\n",
      "Validation report\n",
      "MSE: 2577672552.435157\n",
      "MAE: 27154.072948328267\n",
      "MAPE: 0.155170979692411\n",
      "------------------------------------\n",
      "Testing report\n",
      "MSE: 2381279718.171918\n",
      "MAE: 28525.672602739727\n",
      "MAPE: 0.1506483850202162\n",
      "==============================================\n",
      "#### criterion: friedman_mse\n",
      "Training report\n",
      "MSE: 5646.249129677982\n",
      "MAE: 25.011749347258487\n",
      "MAPE: 0.00017911449804430634\n",
      "------------------------------------\n",
      "Validation report\n",
      "MSE: 2699661669.7028875\n",
      "MAE: 27218.338905775076\n",
      "MAPE: 0.15356298012435599\n",
      "------------------------------------\n",
      "Testing report\n",
      "MSE: 1598914692.1404872\n",
      "MAE: 26381.543378995437\n",
      "MAPE: 0.14850667753256072\n",
      "==============================================\n",
      "#### criterion: mae\n",
      "Training report\n",
      "MSE: 671711678.9582245\n",
      "MAE: 17128.879895561357\n",
      "MAPE: 0.10645954275494504\n",
      "------------------------------------\n",
      "Validation report\n",
      "MSE: 1884432638.6291792\n",
      "MAE: 24981.0547112462\n",
      "MAPE: 0.14940136051918398\n",
      "------------------------------------\n",
      "Testing report\n",
      "MSE: 1526298585.0\n",
      "MAE: 25011.02191780822\n",
      "MAPE: 0.13860679397628023\n",
      "==============================================\n",
      "#### criterion: poisson\n",
      "Training report\n",
      "MSE: 2096823123.1439977\n",
      "MAE: 35641.347449125504\n",
      "MAPE: 0.23541038937293352\n",
      "------------------------------------\n",
      "Validation report\n",
      "MSE: 4372047776.754415\n",
      "MAE: 40850.864965244684\n",
      "MAPE: 0.2644360323830769\n",
      "------------------------------------\n",
      "Testing report\n",
      "MSE: 2747786469.0526314\n",
      "MAE: 38678.135353769656\n",
      "MAPE: 0.2563147900349645\n",
      "==============================================\n"
     ]
    }
   ],
   "source": [
    "\"\"\" Your code here \"\"\"\n",
    "criterion_all = ['mse', 'friedman_mse', 'mae', 'poisson']\n",
    "for i in criterion_all:\n",
    "    DT = DecisionTreeRegressor(criterion=i,\n",
    "                               ccp_alpha=200)\n",
    "    DT.fit(x_train, y_train)\n",
    "    print('#### criterion:',i)\n",
    "    print('Training report')\n",
    "    pred = DT.predict(x_train)\n",
    "    print('MSE:',MSE(y_train, pred))\n",
    "    print('MAE:',MAE(y_train, pred))\n",
    "    print('MAPE:',MAPE(y_train, pred))\n",
    "    print(\"------------------------------------\")\n",
    "    \n",
    "    print('Validation report')\n",
    "    pred = DT.predict(x_validation)\n",
    "    print('MSE:',MSE(y_validation, pred))\n",
    "    print('MAE:',MAE(y_validation, pred))\n",
    "    print('MAPE:',MAPE(y_validation, pred))\n",
    "    print(\"------------------------------------\")\n",
    "    \n",
    "    print('Testing report')\n",
    "    pred = DT.predict(x_test)\n",
    "    print('MSE:',MSE(y_test, pred))\n",
    "    print('MAE:',MAE(y_test, pred))\n",
    "    print('MAPE:',MAPE(y_test, pred))\n",
    "    print(\"==============================================\")\n",
    "        \n"
   ]
  },
  {
   "cell_type": "markdown",
   "metadata": {},
   "source": [
    "##### ANS: MAE比MSE更加不受outlier影響，看MSE在不同criterion中的浮動較大，因此推測資料集裡有較多的outlier"
   ]
  },
  {
   "cell_type": "code",
   "execution_count": null,
   "metadata": {},
   "outputs": [],
   "source": []
  }
 ],
 "metadata": {
  "interpreter": {
   "hash": "aee8b7b246df8f9039afb4144a1f6fd8d2ca17a180786b69acc140d282b71a49"
  },
  "kernelspec": {
   "display_name": "Python 3",
   "language": "python",
   "name": "python3"
  },
  "language_info": {
   "codemirror_mode": {
    "name": "ipython",
    "version": 3
   },
   "file_extension": ".py",
   "mimetype": "text/x-python",
   "name": "python",
   "nbconvert_exporter": "python",
   "pygments_lexer": "ipython3",
   "version": "3.8.3"
  }
 },
 "nbformat": 4,
 "nbformat_minor": 2
}
