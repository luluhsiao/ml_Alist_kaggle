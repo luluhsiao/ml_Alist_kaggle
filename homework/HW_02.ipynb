{
 "cells": [
  {
   "cell_type": "code",
   "execution_count": 1,
   "metadata": {},
   "outputs": [],
   "source": [
    "import pandas as pd\n",
    "import numpy as np\n",
    "\n",
    "from scipy import stats\n",
    "\n",
    "import matplotlib.pyplot as plt\n",
    "import seaborn as sns\n",
    "\n",
    "from sklearn.manifold import TSNE"
   ]
  },
  {
   "cell_type": "markdown",
   "metadata": {},
   "source": [
    "## 讀取檔案"
   ]
  },
  {
   "cell_type": "code",
   "execution_count": 2,
   "metadata": {},
   "outputs": [
    {
     "data": {
      "text/html": [
       "<div>\n",
       "<style scoped>\n",
       "    .dataframe tbody tr th:only-of-type {\n",
       "        vertical-align: middle;\n",
       "    }\n",
       "\n",
       "    .dataframe tbody tr th {\n",
       "        vertical-align: top;\n",
       "    }\n",
       "\n",
       "    .dataframe thead th {\n",
       "        text-align: right;\n",
       "    }\n",
       "</style>\n",
       "<table border=\"1\" class=\"dataframe\">\n",
       "  <thead>\n",
       "    <tr style=\"text-align: right;\">\n",
       "      <th></th>\n",
       "      <th>Id</th>\n",
       "      <th>MSSubClass</th>\n",
       "      <th>MSZoning</th>\n",
       "      <th>LotFrontage</th>\n",
       "      <th>LotArea</th>\n",
       "      <th>Street</th>\n",
       "      <th>Alley</th>\n",
       "      <th>LotShape</th>\n",
       "      <th>LandContour</th>\n",
       "      <th>Utilities</th>\n",
       "      <th>...</th>\n",
       "      <th>PoolArea</th>\n",
       "      <th>PoolQC</th>\n",
       "      <th>Fence</th>\n",
       "      <th>MiscFeature</th>\n",
       "      <th>MiscVal</th>\n",
       "      <th>MoSold</th>\n",
       "      <th>YrSold</th>\n",
       "      <th>SaleType</th>\n",
       "      <th>SaleCondition</th>\n",
       "      <th>SalePrice</th>\n",
       "    </tr>\n",
       "  </thead>\n",
       "  <tbody>\n",
       "    <tr>\n",
       "      <th>0</th>\n",
       "      <td>1431</td>\n",
       "      <td>60</td>\n",
       "      <td>RL</td>\n",
       "      <td>60.0</td>\n",
       "      <td>21930</td>\n",
       "      <td>Pave</td>\n",
       "      <td>NaN</td>\n",
       "      <td>IR3</td>\n",
       "      <td>Lvl</td>\n",
       "      <td>AllPub</td>\n",
       "      <td>...</td>\n",
       "      <td>0</td>\n",
       "      <td>NaN</td>\n",
       "      <td>NaN</td>\n",
       "      <td>NaN</td>\n",
       "      <td>0</td>\n",
       "      <td>7</td>\n",
       "      <td>2006</td>\n",
       "      <td>WD</td>\n",
       "      <td>Normal</td>\n",
       "      <td>192140</td>\n",
       "    </tr>\n",
       "    <tr>\n",
       "      <th>1</th>\n",
       "      <td>757</td>\n",
       "      <td>60</td>\n",
       "      <td>RL</td>\n",
       "      <td>68.0</td>\n",
       "      <td>10769</td>\n",
       "      <td>Pave</td>\n",
       "      <td>NaN</td>\n",
       "      <td>IR1</td>\n",
       "      <td>Lvl</td>\n",
       "      <td>AllPub</td>\n",
       "      <td>...</td>\n",
       "      <td>0</td>\n",
       "      <td>NaN</td>\n",
       "      <td>NaN</td>\n",
       "      <td>NaN</td>\n",
       "      <td>0</td>\n",
       "      <td>4</td>\n",
       "      <td>2009</td>\n",
       "      <td>WD</td>\n",
       "      <td>Normal</td>\n",
       "      <td>212000</td>\n",
       "    </tr>\n",
       "    <tr>\n",
       "      <th>2</th>\n",
       "      <td>632</td>\n",
       "      <td>120</td>\n",
       "      <td>RL</td>\n",
       "      <td>34.0</td>\n",
       "      <td>4590</td>\n",
       "      <td>Pave</td>\n",
       "      <td>NaN</td>\n",
       "      <td>Reg</td>\n",
       "      <td>Lvl</td>\n",
       "      <td>AllPub</td>\n",
       "      <td>...</td>\n",
       "      <td>0</td>\n",
       "      <td>NaN</td>\n",
       "      <td>NaN</td>\n",
       "      <td>NaN</td>\n",
       "      <td>0</td>\n",
       "      <td>8</td>\n",
       "      <td>2007</td>\n",
       "      <td>WD</td>\n",
       "      <td>Normal</td>\n",
       "      <td>209500</td>\n",
       "    </tr>\n",
       "    <tr>\n",
       "      <th>3</th>\n",
       "      <td>1193</td>\n",
       "      <td>50</td>\n",
       "      <td>RM</td>\n",
       "      <td>60.0</td>\n",
       "      <td>9600</td>\n",
       "      <td>Pave</td>\n",
       "      <td>Grvl</td>\n",
       "      <td>Reg</td>\n",
       "      <td>Lvl</td>\n",
       "      <td>AllPub</td>\n",
       "      <td>...</td>\n",
       "      <td>0</td>\n",
       "      <td>NaN</td>\n",
       "      <td>GdWo</td>\n",
       "      <td>NaN</td>\n",
       "      <td>0</td>\n",
       "      <td>7</td>\n",
       "      <td>2007</td>\n",
       "      <td>WD</td>\n",
       "      <td>Normal</td>\n",
       "      <td>125000</td>\n",
       "    </tr>\n",
       "    <tr>\n",
       "      <th>4</th>\n",
       "      <td>773</td>\n",
       "      <td>80</td>\n",
       "      <td>RL</td>\n",
       "      <td>94.0</td>\n",
       "      <td>7819</td>\n",
       "      <td>Pave</td>\n",
       "      <td>NaN</td>\n",
       "      <td>Reg</td>\n",
       "      <td>Lvl</td>\n",
       "      <td>AllPub</td>\n",
       "      <td>...</td>\n",
       "      <td>0</td>\n",
       "      <td>NaN</td>\n",
       "      <td>MnPrv</td>\n",
       "      <td>NaN</td>\n",
       "      <td>0</td>\n",
       "      <td>3</td>\n",
       "      <td>2010</td>\n",
       "      <td>WD</td>\n",
       "      <td>Abnorml</td>\n",
       "      <td>107000</td>\n",
       "    </tr>\n",
       "  </tbody>\n",
       "</table>\n",
       "<p>5 rows × 81 columns</p>\n",
       "</div>"
      ],
      "text/plain": [
       "     Id  MSSubClass MSZoning  LotFrontage  LotArea Street Alley LotShape  \\\n",
       "0  1431          60       RL         60.0    21930   Pave   NaN      IR3   \n",
       "1   757          60       RL         68.0    10769   Pave   NaN      IR1   \n",
       "2   632         120       RL         34.0     4590   Pave   NaN      Reg   \n",
       "3  1193          50       RM         60.0     9600   Pave  Grvl      Reg   \n",
       "4   773          80       RL         94.0     7819   Pave   NaN      Reg   \n",
       "\n",
       "  LandContour Utilities  ... PoolArea PoolQC  Fence MiscFeature MiscVal  \\\n",
       "0         Lvl    AllPub  ...        0    NaN    NaN         NaN       0   \n",
       "1         Lvl    AllPub  ...        0    NaN    NaN         NaN       0   \n",
       "2         Lvl    AllPub  ...        0    NaN    NaN         NaN       0   \n",
       "3         Lvl    AllPub  ...        0    NaN   GdWo         NaN       0   \n",
       "4         Lvl    AllPub  ...        0    NaN  MnPrv         NaN       0   \n",
       "\n",
       "  MoSold YrSold  SaleType  SaleCondition  SalePrice  \n",
       "0      7   2006        WD         Normal     192140  \n",
       "1      4   2009        WD         Normal     212000  \n",
       "2      8   2007        WD         Normal     209500  \n",
       "3      7   2007        WD         Normal     125000  \n",
       "4      3   2010        WD        Abnorml     107000  \n",
       "\n",
       "[5 rows x 81 columns]"
      ]
     },
     "execution_count": 2,
     "metadata": {},
     "output_type": "execute_result"
    }
   ],
   "source": [
    "\"\"\" Your code hear: \"\"\"\n",
    "train = pd.read_csv('./data/train.csv')\n",
    "train.head()"
   ]
  },
  {
   "cell_type": "markdown",
   "metadata": {},
   "source": [
    "## 取出連續型特徵 (方便降維)"
   ]
  },
  {
   "cell_type": "code",
   "execution_count": 3,
   "metadata": {},
   "outputs": [
    {
     "name": "stdout",
     "output_type": "stream",
     "text": [
      "continual: 37\n",
      "      MSSubClass  LotFrontage  LotArea  OverallQual  OverallCond  YearBuilt  \\\n",
      "0             60         60.0    21930            5            5       2005   \n",
      "1             60         68.0    10769            8            5       2007   \n",
      "2            120         34.0     4590            8            5       2006   \n",
      "3             50         60.0     9600            5            8       1925   \n",
      "4             80         94.0     7819            6            5       1976   \n",
      "...          ...          ...      ...          ...          ...        ...   \n",
      "1090          70         51.0     9842            5            6       1921   \n",
      "1091          50         51.0     6120            7            5       1931   \n",
      "1092          20         60.0     7200            7            5       2006   \n",
      "1093          20         88.0    10994            8            5       2005   \n",
      "1094          20         60.0     7200            5            8       1950   \n",
      "\n",
      "      YearRemodAdd  MasVnrArea  BsmtFinSF1  BsmtFinSF2  ...  WoodDeckSF  \\\n",
      "0             2005         0.0           0           0  ...         100   \n",
      "1             2007         0.0          20           0  ...         144   \n",
      "2             2006       108.0          24           0  ...         156   \n",
      "3             1994         0.0           0           0  ...           0   \n",
      "4             1976         0.0         422         127  ...         144   \n",
      "...            ...         ...         ...         ...  ...         ...   \n",
      "1090          1998         0.0           0           0  ...         183   \n",
      "1091          1950         0.0           0           0  ...          90   \n",
      "1092          2006         0.0           0           0  ...         216   \n",
      "1093          2006       366.0         976           0  ...         165   \n",
      "1094          2002         0.0         398         149  ...         194   \n",
      "\n",
      "      OpenPorchSF  EnclosedPorch  3SsnPorch  ScreenPorch  PoolArea  MiscVal  \\\n",
      "0              40              0          0            0         0        0   \n",
      "1             105              0          0            0         0        0   \n",
      "2              73              0          0            0         0        0   \n",
      "3               0             84          0            0         0        0   \n",
      "4               0              0          0            0         0        0   \n",
      "...           ...            ...        ...          ...       ...      ...   \n",
      "1090            0            301          0            0         0        0   \n",
      "1091            0            205          0            0         0        0   \n",
      "1092          121              0          0            0         0        0   \n",
      "1093           44              0          0            0         0        0   \n",
      "1094            0              0          0            0         0        0   \n",
      "\n",
      "      MoSold  YrSold  SalePrice  \n",
      "0          7    2006     192140  \n",
      "1          4    2009     212000  \n",
      "2          8    2007     209500  \n",
      "3          7    2007     125000  \n",
      "4          3    2010     107000  \n",
      "...      ...     ...        ...  \n",
      "1090       5    2008     189000  \n",
      "1091       4    2008     129900  \n",
      "1092       8    2006     187750  \n",
      "1093       9    2009     257000  \n",
      "1094       7    2007     129000  \n",
      "\n",
      "[1095 rows x 37 columns]\n"
     ]
    }
   ],
   "source": [
    "\"\"\" Your code hear: \"\"\"\n",
    "# 判斷每個特徵的類型\n",
    "#continual = [f for f in train.columns if train.dtypes[f] != 'object']\n",
    "#continual.remove('Id')\n",
    "#continual.remove('SalePrice')\n",
    "\n",
    "continual = train.columns[(train.dtypes!='object')]\n",
    "continual_train = train[continual]\n",
    "continual_train = continual_train.drop(columns=['Id'])\n",
    "print(f'continual: {len(continual_train.columns)}')\n",
    "print(continual_train)"
   ]
  },
  {
   "cell_type": "markdown",
   "metadata": {},
   "source": [
    "## 分析缺失值"
   ]
  },
  {
   "cell_type": "code",
   "execution_count": 4,
   "metadata": {},
   "outputs": [
    {
     "name": "stdout",
     "output_type": "stream",
     "text": [
      "MasVnrArea       7\n",
      "GarageYrBlt     67\n",
      "LotFrontage    191\n",
      "dtype: int64\n"
     ]
    },
    {
     "data": {
      "image/png": "[encoded data removed]",
      "text/plain": [
       "<Figure size 288x288 with 1 Axes>"
      ]
     },
     "metadata": {
      "needs_background": "light"
     },
     "output_type": "display_data"
    }
   ],
   "source": [
    "\"\"\" Your code hear: 練習印出缺失值圖表 \"\"\"\n",
    "missing = continual_train.isnull().sum(axis = 0)\n",
    "missing = missing[missing > 0]\n",
    "missing.sort_values(inplace=True)\n",
    "print(missing)\n",
    "\n",
    "plt.figure(figsize = (4, 4))\n",
    "plt.bar(list(missing.index), np.array(missing))\n",
    "plt.xticks(rotation='vertical')\n",
    "plt.show()"
   ]
  },
  {
   "cell_type": "markdown",
   "metadata": {},
   "source": [
    "## 去除缺失值"
   ]
  },
  {
   "cell_type": "code",
   "execution_count": 5,
   "metadata": {},
   "outputs": [
    {
     "name": "stdout",
     "output_type": "stream",
     "text": [
      "      MSSubClass  LotFrontage  LotArea  OverallQual  OverallCond  YearBuilt  \\\n",
      "0             60         60.0    21930            5            5       2005   \n",
      "1             60         68.0    10769            8            5       2007   \n",
      "2            120         34.0     4590            8            5       2006   \n",
      "3             50         60.0     9600            5            8       1925   \n",
      "4             80         94.0     7819            6            5       1976   \n",
      "...          ...          ...      ...          ...          ...        ...   \n",
      "1090          70         51.0     9842            5            6       1921   \n",
      "1091          50         51.0     6120            7            5       1931   \n",
      "1092          20         60.0     7200            7            5       2006   \n",
      "1093          20         88.0    10994            8            5       2005   \n",
      "1094          20         60.0     7200            5            8       1950   \n",
      "\n",
      "      YearRemodAdd  MasVnrArea  BsmtFinSF1  BsmtFinSF2  ...  WoodDeckSF  \\\n",
      "0             2005         0.0           0           0  ...         100   \n",
      "1             2007         0.0          20           0  ...         144   \n",
      "2             2006       108.0          24           0  ...         156   \n",
      "3             1994         0.0           0           0  ...           0   \n",
      "4             1976         0.0         422         127  ...         144   \n",
      "...            ...         ...         ...         ...  ...         ...   \n",
      "1090          1998         0.0           0           0  ...         183   \n",
      "1091          1950         0.0           0           0  ...          90   \n",
      "1092          2006         0.0           0           0  ...         216   \n",
      "1093          2006       366.0         976           0  ...         165   \n",
      "1094          2002         0.0         398         149  ...         194   \n",
      "\n",
      "      OpenPorchSF  EnclosedPorch  3SsnPorch  ScreenPorch  PoolArea  MiscVal  \\\n",
      "0              40              0          0            0         0        0   \n",
      "1             105              0          0            0         0        0   \n",
      "2              73              0          0            0         0        0   \n",
      "3               0             84          0            0         0        0   \n",
      "4               0              0          0            0         0        0   \n",
      "...           ...            ...        ...          ...       ...      ...   \n",
      "1090            0            301          0            0         0        0   \n",
      "1091            0            205          0            0         0        0   \n",
      "1092          121              0          0            0         0        0   \n",
      "1093           44              0          0            0         0        0   \n",
      "1094            0              0          0            0         0        0   \n",
      "\n",
      "      MoSold  YrSold  SalePrice  \n",
      "0          7    2006     192140  \n",
      "1          4    2009     212000  \n",
      "2          8    2007     209500  \n",
      "3          7    2007     125000  \n",
      "4          3    2010     107000  \n",
      "...      ...     ...        ...  \n",
      "1090       5    2008     189000  \n",
      "1091       4    2008     129900  \n",
      "1092       8    2006     187750  \n",
      "1093       9    2009     257000  \n",
      "1094       7    2007     129000  \n",
      "\n",
      "[838 rows x 37 columns]\n"
     ]
    }
   ],
   "source": [
    "\"\"\" Your code hear: 去除缺失值 \"\"\"\n",
    "continual_train = continual_train.dropna()\n",
    "print(continual_train)"
   ]
  },
  {
   "cell_type": "markdown",
   "metadata": {},
   "source": [
    "## 轉化成 ndarray 後進行標準化，並將 Y 透過四分位數轉換成四個類別"
   ]
  },
  {
   "cell_type": "code",
   "execution_count": 12,
   "metadata": {},
   "outputs": [
    {
     "name": "stdout",
     "output_type": "stream",
     "text": [
      "(838, 36)\n",
      "(838,)\n"
     ]
    }
   ],
   "source": [
    "\"\"\" Your code hear: \"\"\"\n",
    "x = np.asarray(continual_train.drop(columns=['SalePrice']))\n",
    "x = (x - x.mean(axis = 0)) / x.std(axis = 0)\n",
    "y = continual_train['SalePrice']\n",
    "arr_y = np.asarray(y, dtype = 'float')\n",
    "arr_y_iqr = np.percentile(arr_y, (25, 50, 75), interpolation='midpoint')\n",
    "\n",
    "# 將 Y 依照四分位距分成四類\n",
    "class_y = []\n",
    "for i in arr_y:\n",
    "    if i < arr_y_iqr[0]:\n",
    "        yyy = 0\n",
    "        class_y.append(yyy)\n",
    "    elif arr_y_iqr[0] <= i < arr_y_iqr[1]:\n",
    "        yyy = 1\n",
    "        class_y.append(yyy)\n",
    "    elif arr_y_iqr[1] <= i < arr_y_iqr[2]:\n",
    "        yyy = 2\n",
    "        class_y.append(yyy)\n",
    "    elif arr_y_iqr[2] <= i:\n",
    "        yyy = 3\n",
    "        class_y.append(yyy)\n",
    "\n",
    "class_y = np.array(class_y)\n",
    "print(x.shape)\n",
    "print(y.shape)"
   ]
  },
  {
   "cell_type": "markdown",
   "metadata": {},
   "source": [
    "## 利用 TSNE 降維"
   ]
  },
  {
   "cell_type": "code",
   "execution_count": 13,
   "metadata": {},
   "outputs": [
    {
     "name": "stdout",
     "output_type": "stream",
     "text": [
      "[[ 12.259357  -8.504818]\n",
      " [ 17.85247   -8.920409]\n",
      " [  8.501898  15.310012]\n",
      " ...\n",
      " [ 10.820138  16.367702]\n",
      " [ 18.424837   9.536295]\n",
      " [-15.332134  -7.840783]]\n"
     ]
    }
   ],
   "source": [
    "tsne = TSNE(\n",
    "    n_components=2, init='pca', perplexity = 40, \n",
    "    early_exaggeration = 8, learning_rate = 150,\n",
    "    n_iter = 2000\n",
    ")\n",
    "X_tsne = tsne.fit_transform(x)\n",
    "\n",
    "print(X_tsne)"
   ]
  },
  {
   "cell_type": "markdown",
   "metadata": {},
   "source": [
    "## 做圖"
   ]
  },
  {
   "cell_type": "code",
   "execution_count": 14,
   "metadata": {},
   "outputs": [
    {
     "data": {
      "image/png": "[encoded data removed]",
      "text/plain": [
       "<Figure size 900x600 with 1 Axes>"
      ]
     },
     "metadata": {
      "needs_background": "light"
     },
     "output_type": "display_data"
    }
   ],
   "source": [
    "\"\"\" Your code hear: \"\"\"\n",
    "X_tsne = pd.DataFrame(X_tsne)\n",
    "X_tsne.columns = ['X_tsne1','X_tsne2']\n",
    "X_tsne['label'] = class_y\n",
    "\n",
    "\n",
    "X_tsne_0 = X_tsne[X_tsne['label']==0]\n",
    "X_tsne_1 = X_tsne[X_tsne['label']==1]\n",
    "X_tsne_2 = X_tsne[X_tsne['label']==2]\n",
    "X_tsne_3 = X_tsne[X_tsne['label']==3]\n",
    "\n",
    "\n",
    "\n",
    "plt.figure(figsize = (9, 6), dpi = 100)\n",
    "plt.scatter(X_tsne_0['X_tsne1'], X_tsne_0['X_tsne2'],c='red',label=X_tsne['label'])\n",
    "plt.scatter(X_tsne_1['X_tsne1'], X_tsne_1['X_tsne2'],c='green',label=X_tsne['label'])\n",
    "plt.scatter(X_tsne_2['X_tsne1'], X_tsne_2['X_tsne2'],c='blue',label=X_tsne['label'])\n",
    "plt.scatter(X_tsne_3['X_tsne1'], X_tsne_3['X_tsne2'],c='purple',label=X_tsne['label'])\n",
    "plt.ylabel('X_tsne1', fontsize = 10)\n",
    "plt.xlabel('X_tsne2', fontsize = 10)\n",
    "plt.legend(np.unique(X_tsne['label']),loc='upper left')\n",
    "plt.show()"
   ]
  },
  {
   "cell_type": "markdown",
   "metadata": {},
   "source": [
    "## 1. 請問同學從降維後的圖表中可以看出什麼現象？"
   ]
  },
  {
   "cell_type": "markdown",
   "metadata": {},
   "source": [
    "## 2. 請同學分析，什麼因素導致降維後的點座標重合性高？"
   ]
  },
  {
   "cell_type": "markdown",
   "metadata": {},
   "source": [
    "### ANS:\n",
    "#### 1.  四個類別的點重合性高，相互有重疊到\n",
    "#### 2. 未考慮資料本身的分配以及離散的狀況"
   ]
  },
  {
   "cell_type": "code",
   "execution_count": null,
   "metadata": {},
   "outputs": [],
   "source": []
  }
 ],
 "metadata": {
  "kernelspec": {
   "display_name": "Python 3",
   "language": "python",
   "name": "python3"
  },
  "language_info": {
   "codemirror_mode": {
    "name": "ipython",
    "version": 3
   },
   "file_extension": ".py",
   "mimetype": "text/x-python",
   "name": "python",
   "nbconvert_exporter": "python",
   "pygments_lexer": "ipython3",
   "version": "3.8.3"
  }
 },
 "nbformat": 4,
 "nbformat_minor": 2
}
